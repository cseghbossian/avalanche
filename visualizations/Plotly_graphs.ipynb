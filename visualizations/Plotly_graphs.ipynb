{
 "cells": [
  {
   "cell_type": "markdown",
   "metadata": {},
   "source": [
    "# All Plotly graphs\n",
    "\n",
    "This file contains all the plotly graphs created for this project. It will include the url, name of plot, and the author\n",
    "\n",
    "\n",
    "1. Just Score by EPA Violation Penalty\n",
    "  * https://plot.ly/~alue/4/just-score-vs-epa-penalty/\n",
    "  * by Alex Lue\n",
    " \n",
    "2. Just Score by EPA Violation Penalty No Outliers\n",
    "  * https://plot.ly/~alue/6/just-score-vs-epa-penalty/\n",
    "  * by Alex Lue\n",
    "\n",
    "3. Just Score by EPA Violation Penalty: Pharmaceuticals\n",
    "  * https://plot.ly/~alue/12/just-score-vs-epa-penalty-by-industry-pharmaceuticals/\n",
    "  * by Alex Lue\n",
    "\n",
    "4. Just Score by EPA Violation Penalty: Oil & Gas\n",
    "  * https://plot.ly/~alue/14/just-score-vs-epa-penalty-by-industry-oil-gas/\n",
    "  * by Alex Lue\n",
    "\n",
    "5. Just Score by EPA Violation Penalty: Retail\n",
    "  * https://plot.ly/~alue/16/just-score-vs-epa-penalty-by-industry-retail/\n",
    "  * by Alex Lue\n",
    "\n",
    "6. Just Score by EPA Violation Penalty: Financial Services\n",
    "  * https://plot.ly/~alue/18/just-score-vs-epa-penalty-by-industry-financial-services/\n",
    "  * by Alex Lue\n",
    "  \n",
    "7. EPA Violations 2000-2019 by Location\n",
    "  * https://plot.ly/~cchien/2/epa-violations-2000-2019\n",
    "  * by Casey Chien\n",
    "\n",
    "8. EPA Violations 2000-2019 by Location (Industry)\n",
    "  * https://plot.ly/~cchien/4/epa-violations-2000-2019-industries\n",
    "  * by Casey Chien"
   ]
  },
  {
   "cell_type": "code",
   "execution_count": null,
   "metadata": {},
   "outputs": [],
   "source": []
  }
 ],
 "metadata": {
  "kernelspec": {
   "display_name": "Python 3",
   "language": "python",
   "name": "python3"
  },
  "language_info": {
   "codemirror_mode": {
    "name": "ipython",
    "version": 3
   },
   "file_extension": ".py",
   "mimetype": "text/x-python",
   "name": "python",
   "nbconvert_exporter": "python",
   "pygments_lexer": "ipython3",
   "version": "3.7.1"
  }
 },
 "nbformat": 4,
 "nbformat_minor": 2
}

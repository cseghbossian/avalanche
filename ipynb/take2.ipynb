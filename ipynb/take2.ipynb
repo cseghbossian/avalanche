{
 "cells": [
  {
   "cell_type": "code",
   "execution_count": 1,
   "metadata": {},
   "outputs": [],
   "source": [
    "import pandas as pd"
   ]
  },
  {
   "cell_type": "code",
   "execution_count": 2,
   "metadata": {},
   "outputs": [],
   "source": [
    "epa_df = pd.read_csv('../datasets/epa_violations.csv',low_memory=False)\n",
    "global_df = pd.read_csv('../datasets/2013_-_Global_500_Emissions_and_Response_Status.csv', delimiter=',', encoding=\"utf-8-sig\")"
   ]
  },
  {
   "cell_type": "code",
   "execution_count": 3,
   "metadata": {
    "scrolled": true
   },
   "outputs": [
    {
     "name": "stdout",
     "output_type": "stream",
     "text": [
      "<class 'pandas.core.frame.DataFrame'>\n",
      "RangeIndex: 40567 entries, 0 to 40566\n",
      "Data columns (total 37 columns):\n",
      "Company                                                      40567 non-null object\n",
      "Parent Company                                               15087 non-null object\n",
      "Penalty Amount                                               40567 non-null object\n",
      "Subtraction From Penalty                                     40567 non-null object\n",
      "Penalty Amount Adjusted For Eliminating Multiple Counting    40567 non-null object\n",
      "Penalty Year                                                 40567 non-null int64\n",
      "Penalty Date                                                 40567 non-null int64\n",
      "Primary Offense                                              40567 non-null object\n",
      "Secondary Offense                                            6 non-null object\n",
      "Description                                                  24630 non-null object\n",
      "Level of Government                                          40567 non-null object\n",
      "Action Type                                                  40567 non-null object\n",
      "Agency                                                       40567 non-null object\n",
      "Court                                                        0 non-null float64\n",
      "Civil/Criminal                                               40567 non-null object\n",
      "Prosecution Agreement                                        2 non-null object\n",
      "Case ID                                                      39252 non-null object\n",
      "Private Litigation Case Title                                0 non-null float64\n",
      "Lawsuit Resolution                                           0 non-null float64\n",
      "Facility State                                               31988 non-null object\n",
      "City                                                         31698 non-null object\n",
      "Address                                                      31108 non-null object\n",
      "Zip                                                          31081 non-null object\n",
      "NAICS Code                                                   20378 non-null float64\n",
      "NAICS Translation                                            19688 non-null object\n",
      "HQ Country of Parent                                         15087 non-null object\n",
      "HQ State of Parent                                           10901 non-null object\n",
      "Ownership Structure                                          15113 non-null object\n",
      "Parent Company Stock Ticker                                  9222 non-null object\n",
      "Major Industry of Parent                                     15087 non-null object\n",
      "Specific Industry of Parent                                  15087 non-null object\n",
      "Info Source                                                  40567 non-null object\n",
      "Info Source Archive URL                                      1131 non-null object\n",
      "PACER Link                                                   0 non-null float64\n",
      "Captured Document                                            0 non-null float64\n",
      "EPA/OSHA More Info Link                                      39252 non-null object\n",
      "Notes                                                        514 non-null object\n",
      "dtypes: float64(6), int64(2), object(29)\n",
      "memory usage: 11.5+ MB\n",
      "<class 'pandas.core.frame.DataFrame'>\n",
      "RangeIndex: 500 entries, 0 to 499\n",
      "Data columns (total 14 columns):\n",
      "Company Name                    500 non-null object\n",
      "Account Number                  500 non-null int64\n",
      "Country                         500 non-null object\n",
      "Reporting Year                  500 non-null int64\n",
      "Ticker Symbol                   500 non-null object\n",
      "ISIN                            494 non-null object\n",
      "Disclosure Score                391 non-null float64\n",
      "Performance Band                370 non-null object\n",
      "Parent Account                  16 non-null object\n",
      "Permission                      421 non-null object\n",
      "Response Status                 500 non-null object\n",
      "Scope 1 (metric tonnes CO2e)    339 non-null float64\n",
      "Scope 2 (metric tonnes CO2e)    339 non-null float64\n",
      "Country Location                500 non-null object\n",
      "dtypes: float64(3), int64(2), object(9)\n",
      "memory usage: 54.8+ KB\n"
     ]
    }
   ],
   "source": [
    "epa_df.info()\n",
    "global_df.info()"
   ]
  },
  {
   "cell_type": "code",
   "execution_count": 4,
   "metadata": {
    "collapsed": true
   },
   "outputs": [
    {
     "data": {
      "text/plain": [
       "Index(['Company', 'Parent Company', 'Penalty Amount',\n",
       "       'Subtraction From Penalty',\n",
       "       'Penalty Amount Adjusted For Eliminating Multiple Counting',\n",
       "       'Penalty Year', 'Penalty Date', 'Primary Offense', 'Secondary Offense',\n",
       "       'Description', 'Level of Government', 'Action Type', 'Agency', 'Court',\n",
       "       'Civil/Criminal', 'Prosecution Agreement', 'Case ID',\n",
       "       'Private Litigation Case Title', 'Lawsuit Resolution', 'Facility State',\n",
       "       'City', 'Address', 'Zip', 'NAICS Code', 'NAICS Translation',\n",
       "       'HQ Country of Parent', 'HQ State of Parent', 'Ownership Structure',\n",
       "       'Parent Company Stock Ticker', 'Major Industry of Parent',\n",
       "       'Specific Industry of Parent', 'Info Source', 'Info Source Archive URL',\n",
       "       'PACER Link', 'Captured Document', 'EPA/OSHA More Info Link', 'Notes'],\n",
       "      dtype='object')"
      ]
     },
     "execution_count": 4,
     "metadata": {},
     "output_type": "execute_result"
    }
   ],
   "source": [
    "epa_df.columns"
   ]
  },
  {
   "cell_type": "code",
   "execution_count": 5,
   "metadata": {},
   "outputs": [
    {
     "data": {
      "text/html": [
       "<div>\n",
       "<style scoped>\n",
       "    .dataframe tbody tr th:only-of-type {\n",
       "        vertical-align: middle;\n",
       "    }\n",
       "\n",
       "    .dataframe tbody tr th {\n",
       "        vertical-align: top;\n",
       "    }\n",
       "\n",
       "    .dataframe thead th {\n",
       "        text-align: right;\n",
       "    }\n",
       "</style>\n",
       "<table border=\"1\" class=\"dataframe\">\n",
       "  <thead>\n",
       "    <tr style=\"text-align: right;\">\n",
       "      <th></th>\n",
       "      <th>Company</th>\n",
       "      <th>HQ Country of Parent</th>\n",
       "    </tr>\n",
       "  </thead>\n",
       "  <tbody>\n",
       "    <tr>\n",
       "      <th>0</th>\n",
       "      <td>5N Plus Inc.</td>\n",
       "      <td>NaN</td>\n",
       "    </tr>\n",
       "    <tr>\n",
       "      <th>1</th>\n",
       "      <td>A&amp;L Cesspool Service Corporation</td>\n",
       "      <td>NaN</td>\n",
       "    </tr>\n",
       "    <tr>\n",
       "      <th>2</th>\n",
       "      <td>A-1 Barrel</td>\n",
       "      <td>NaN</td>\n",
       "    </tr>\n",
       "    <tr>\n",
       "      <th>3</th>\n",
       "      <td>A-1 Petroleum and Propane, Inc.</td>\n",
       "      <td>NaN</td>\n",
       "    </tr>\n",
       "    <tr>\n",
       "      <th>4</th>\n",
       "      <td>A-1 Restaurant Services, L.L.C.</td>\n",
       "      <td>NaN</td>\n",
       "    </tr>\n",
       "  </tbody>\n",
       "</table>\n",
       "</div>"
      ],
      "text/plain": [
       "                            Company HQ Country of Parent\n",
       "0                      5N Plus Inc.                  NaN\n",
       "1  A&L Cesspool Service Corporation                  NaN\n",
       "2                        A-1 Barrel                  NaN\n",
       "3   A-1 Petroleum and Propane, Inc.                  NaN\n",
       "4   A-1 Restaurant Services, L.L.C.                  NaN"
      ]
     },
     "execution_count": 5,
     "metadata": {},
     "output_type": "execute_result"
    }
   ],
   "source": [
    "epa_df[['Company', 'HQ Country of Parent']].head()"
   ]
  },
  {
   "cell_type": "code",
   "execution_count": 16,
   "metadata": {},
   "outputs": [
    {
     "data": {
      "text/plain": [
       "False"
      ]
     },
     "execution_count": 16,
     "metadata": {},
     "output_type": "execute_result"
    }
   ],
   "source": [
    "nan_vals = epa_df[epa_df['HQ Country of Parent'].isnull() ].index\n",
    "epa_df['HQ Country of Parent'].isnull().values.any()"
   ]
  },
  {
   "cell_type": "code",
   "execution_count": 19,
   "metadata": {},
   "outputs": [],
   "source": [
    "epa_df.drop(nan_vals, inplace=True)"
   ]
  },
  {
   "cell_type": "code",
   "execution_count": 21,
   "metadata": {},
   "outputs": [
    {
     "data": {
      "text/plain": [
       "['USA',\n",
       " 'Cyprus',\n",
       " 'Switzerland',\n",
       " 'Canada',\n",
       " 'France',\n",
       " 'Britain',\n",
       " 'China',\n",
       " 'Luxembourg',\n",
       " 'Mexico',\n",
       " 'Ireland',\n",
       " 'Germany',\n",
       " 'Bermuda',\n",
       " 'Japan',\n",
       " 'Belgium',\n",
       " 'Venezuela',\n",
       " 'Netherlands',\n",
       " 'Taiwan',\n",
       " 'Greece',\n",
       " 'Sweden',\n",
       " 'Australia',\n",
       " 'Saudi Arabia',\n",
       " 'Brazil',\n",
       " 'Ukraine',\n",
       " 'Hong Kong',\n",
       " 'Norway',\n",
       " 'Colombia',\n",
       " 'Italy',\n",
       " 'Israel',\n",
       " 'South Africa',\n",
       " 'Ireland',\n",
       " 'Chile',\n",
       " 'Spain',\n",
       " 'Scotland',\n",
       " 'South Korea',\n",
       " 'Russia',\n",
       " 'Denmark',\n",
       " 'Finland',\n",
       " 'India',\n",
       " 'Switzerland',\n",
       " 'New Zealand',\n",
       " 'Thailand',\n",
       " 'Singapore',\n",
       " 'Australia',\n",
       " 'Austria',\n",
       " 'Bermuda',\n",
       " 'Panama',\n",
       " 'Abu Dhabi',\n",
       " 'Egypt',\n",
       " 'Philippines',\n",
       " 'Britain']"
      ]
     },
     "execution_count": 21,
     "metadata": {},
     "output_type": "execute_result"
    }
   ],
   "source": [
    "epa_countries = epa_df['HQ Country of Parent'].unique()\n",
    "epa_countries\n",
    "\n",
    "cleaned_epa_countries = []\n",
    "for country in epa_countries:\n",
    "    if \"tax\" in country:\n",
    "        country = country.split(\" \")[0]\n",
    "    cleaned_epa_countries.append(country)\n",
    "\n",
    "cleaned_epa_countries"
   ]
  },
  {
   "cell_type": "code",
   "execution_count": 22,
   "metadata": {},
   "outputs": [
    {
     "data": {
      "text/plain": [
       "array(['USA', 'Switzerland', 'Ireland', 'Germany', 'Thailand',\n",
       "       'Hong Kong', 'France', 'Netherlands', 'Turkey', 'Brazil', 'Mexico',\n",
       "       'United Kingdom', 'Belgium', 'Luxembourg', 'Italy', 'Japan',\n",
       "       'Indonesia', 'Sweden', 'Australia', 'Malaysia', 'Spain', 'China',\n",
       "       'Canada', 'India', 'Czech Republic', 'Taiwan', 'Singapore',\n",
       "       'Norway', 'Colombia', 'Chile', 'South Africa', 'Russia',\n",
       "       'South Korea', 'Denmark', 'Finland', 'Peru', 'Israel'],\n",
       "      dtype=object)"
      ]
     },
     "execution_count": 22,
     "metadata": {},
     "output_type": "execute_result"
    }
   ],
   "source": [
    "countries = global_df['Country '].unique()\n",
    "countries"
   ]
  },
  {
   "cell_type": "code",
   "execution_count": 12,
   "metadata": {},
   "outputs": [
    {
     "data": {
      "text/plain": [
       "['Norway',\n",
       " 'Brazil',\n",
       " 'Japan',\n",
       " 'Italy',\n",
       " 'Hong Kong',\n",
       " 'Germany',\n",
       " 'Thailand',\n",
       " 'Chile',\n",
       " 'Finland',\n",
       " 'Luxembourg',\n",
       " 'Israel',\n",
       " 'Russia',\n",
       " 'Colombia',\n",
       " 'Australia',\n",
       " 'India',\n",
       " 'Belgium',\n",
       " 'France',\n",
       " 'South Korea',\n",
       " 'Canada',\n",
       " 'China',\n",
       " 'Spain',\n",
       " 'Singapore',\n",
       " 'Sweden',\n",
       " 'Mexico',\n",
       " 'Switzerland',\n",
       " 'Taiwan',\n",
       " 'Denmark',\n",
       " 'Netherlands',\n",
       " 'South Africa',\n",
       " 'Ireland']"
      ]
     },
     "execution_count": 12,
     "metadata": {},
     "output_type": "execute_result"
    }
   ],
   "source": [
    "# find overlapping companies?\n",
    "intersection = list(set(countries) & set(cleaned_epa_countries))\n",
    "intersection"
   ]
  },
  {
   "cell_type": "code",
   "execution_count": 26,
   "metadata": {},
   "outputs": [
    {
     "data": {
      "text/plain": [
       "array(['Pennsylvania', 'New Jersey', 'Virginia', 'Nebraska', 'California',\n",
       "       'Ohio', 'Georgia', 'New York', 'Texas', 'Nevada', 'West Virginia',\n",
       "       'Missouri', 'Illinois', 'Arizona', 'Kentucky', 'Alabama', 'Iowa',\n",
       "       'Utah', 'Indiana', 'Idaho', 'Connecticut', 'New Hampshire',\n",
       "       'Massachusetts', 'Mississippi', 'Minnesota', 'Louisiana',\n",
       "       'Michigan', 'Colorado', 'Delaware', 'Oklahoma', 'North Carolina',\n",
       "       'Oregon', 'District of Columbia', 'Rhode Island', 'Washington',\n",
       "       'Wisconsin', 'South Dakota', 'Florida', 'North Dakota',\n",
       "       'Tennessee', 'Kansas', 'Maryland', 'Arkansas', 'South Carolina',\n",
       "       'Alaska', 'Hawaii', 'Vermont', 'Puerto Rico', 'Virgin Islands',\n",
       "       'New Mexico'], dtype=object)"
      ]
     },
     "execution_count": 26,
     "metadata": {},
     "output_type": "execute_result"
    }
   ],
   "source": [
    "nan_vals = epa_df[epa_df['HQ State of Parent'].isnull() ].index\n",
    "epa_df.drop(nan_vals, inplace=True)\n",
    "\n",
    "states = epa_df['HQ State of Parent'].unique()\n",
    "states"
   ]
  },
  {
   "cell_type": "code",
   "execution_count": 28,
   "metadata": {},
   "outputs": [
    {
     "name": "stdout",
     "output_type": "stream",
     "text": [
      "Atglen, Irvine, Mason City, Pasadena, Sparrows Point, Ashland, Dearborn, Rockdale, Billerica, Chester, Middlesboro, Farmington, Waverly, Agawam, North Salt Lake, St. Joseph, Cicero, Ludlow, Kent, Keene, Danvers, Edwards, Rillito, Eddyville, Fullerton, Garretson, Plant City, Richland, Belle, Louisville, Washington, Deepwater, Tonawanda, Roanoke, Salt Lake City, El Segundo, La Porte, El Dorado, Kimball, Aragonite, Braintree, Coffeyville, Columbus, South San Francisco, Jamestown, Hastings, Lodi, Bradford, Mount Vernon, Binghamton, Wenworth, Portland, Los Angeles, Narrows, Delaware City, Andover, Vernal, Des Moines, Lusby, CHEYENNE, EVANSVILLE, LOVELL, BIG HORN COUNTY, LARAMIE COUNTY, WYOMING, SUNDANCE, WASHAKIE COUNTY, MOUNTAIN VIEW, POINT OF ROCKS, SWEETWATER COUNTY, ROCK SPRINGS, SUBLETTE COUNTY, Midland, LINCOLN COUNTY, COLONY, CONVERSE COUNTY, CARBON COUNTY, SINCLAIR, CAMPBELL COUNTY, STEPHENSON, JANE LEW, PINEVILLE, READER, JACKSONBURG, HASTINGS, SMITHFIELD, ERBACON, BUCKHANNON, ALMA, SHIRLEY, PENNSBORO, PARSONS, FLEMINGTON, PULLMAN, SMITHVILLE, ODD, PETTUS, WILLOW ISLAND, CRAGSVILLE, WANA, FLAT TOP, DALLAS, MOUNDSVILLE, NATRIUM, BEELERS STATION, LANDGRAFF, KEYSTONE, CAMDEN, BRIDGEPORT, MOOREFIELD, WHITE SULPHUR SPRING, GORMANIA, NORMANTOWN, LINN, CENTER POINT, WEST UNION, NEW MILTON, OXFORD, MAPLE, SMITHBURG, HUNTINGTON, HEATERS, BALD KNOB, GREENWOOD, MARTINSBURG, PHILIPPI, BELINGTON, PHOENIX, INSTITUTE, SISSONVILLE, MOBLEY, SHARPLES, FORT WORTH, Lawrenceville, THE WOODLANDS, PRINCETON, DUNLOW, MADISON, SLANESVILLE, Eden, ELKINS, MORGANTOWN, MINERAL WELLS, New Johnsonville, Edge Moor, MILTON, MARSHFIELD, SUSSEX, WEST ALLIS, WAUKESHA, DELAVAN, KOHLER, BARABOO, Kinston, STEVENS POINT, FRANKLIN, WAUSAU, WISCONSIN, MANITOWOC, LA CROSSE, UNION GROVE, JOHNSON CREEK, BERLIN, BROWNTOWN, PRAIRIE DU CHIEN, CAMBRIA, PARDEEVILLE, ABBOTSFORD, GREEN BAY, GOLDEN, INDIANOLA, TYLER, NORTH CHARLESTON, PLANO, MANDAN, CHARLESTON, GALENA PARK, NEW YORK, CENTRALIA, VANCOUVER, Durham, WASHOUGAL, SPOKANE, TACOMA, EVERETT, RENTON, KENT, AUBURN, OLYMPIA, SHELTON, ANACORTES, MOUNT VERNON, BELLINGHAM, SUMAS, FERNDALE, Fairborn, PORT TOWNSEND, WALLULA, WENATCHEE, MORTON, KELSO, MALAGA, ISSAQUAH, ST. JOHN, ST THOMAS, ST. THOMAS, WINCHESTER, LEESBURG, BAYVIEW, CHESAPEAKE, DANVILLE, VIENNA, ALTAVISTA, STERLING, BLACKSBURG, FREEMAN, RICHMOND, NEWPORT NEWS, HOPEWELL, ST PAUL, CLEVELAND, ASHBURN, MARTINSVILLE, LORTON, ROANOKE, RADFORD, PORTSMOUTH, LYNCHBURG, HAMPTON, FAIRFAX, ALEXANDRIA, WILLIAMSBURG, FREDERICKSBURG, ATKINS, MANASSAS, WOODBRIDGE, HURT, CHATHAM, ORANGE, CALLAO, WASHINGTON DULLES INTERNATIONAL AIRPORT, TOANO, BASSETT, CLOVER, HERNDON, CHANTILLY, NEWINGTON, COLONIAL HEIGHTS, LAWRENCEVILLE, CLEAR BROOK, MOUNT JACKSON, GLEN ALLEN, CHESTER, ASHLAND, RUTHER GLEN, RIVERVILLE, Courtland, PROVO, WEST VALLEY CITY, Carthage, UTAH, DUCHESNE, ALTAMONT, NORTH SALT LAKE, SALT LAKE CITY, DUCHESNE COUNTY, BOX ELDER COUNTY, WILLARD, EVANSTON, CORPUS CHRISTI, BEAUMONT, TEXAS CITY, OZONA, PORT NECHES, DEER PARK, Ogden, SAN ANGELO, BAYTOWN, POINT COMFORT, LUFKIN, SEGUIN, PORT ARTHUR, MIDLOTHIAN, HOUSTON, SUNNYVALE, LONGVIEW, INGLESIDE, DUNCANVILLE, Chicago, THREE RIVERS, NEDERLAND, FRIONA, EVADALE, WAXAHACHIE, PASADENA, GOLDSMITH, ENNIS, CORSICANA, KOSSE, AMARILLO, CARTHAGE, FALFURRIAS, MISSION, DIBOLL, LA PORTE, SUGAR LAND, GRUVER, CROSBY, FRISCO, PAMPA, TEXARKANA, TOLAR, WASKOM, MONT BELVIEU, CHICO, EL PASO, PLAINVIEW, JEWETT, SWEETWATER, SEMINOLE, NACOGDOCHES, MARKHAM, AUSTIN, BAY CITY, PITTSBURG, PINELAND, EULESS, MILLSAP, ARLINGTON, PARIS, REFUGIO, Kalama, SABINE PASS, DENTON, IRVING, ODESSA, CENTER, DENTON COUNTY, ROBSTOWN, BASTROP, Texas City, CITY OF PORT ARTHUR, ROSENBERG, Bell Township, Muncie, NASHVILLE, KNOXVILLE, CHATTANOOGA, ROCKWOOD, BRISTOL, SPRINGFIELD, UNION CITY, JACKSON, LOUDON, NEW JOHNSONVILLE, CHURCH HILL, ASHLAND CITY, ROCKFORD, SHELBYVILLE, CLINTON, CARYVILLE, DENMARK, SOUTHERN UTE RESERVATION, AURORA, SIOUX FALLS, BIG STONE CITY, ROCK HILL, YORK, SUMTER, SPARTANBURG, COLUMBIA, EASTOVER, ORANGEBURG, NEWBERRY, BENNETTSVILLE, BISHOPVILLE, KERSHAW, LUGOFF, FOUNTAIN INN, GREENVILLE, FLORENCE, N AUGUSTA, HARTSVILLE, ALCOLU, SUMMERTON, RICHBURG, GAFFNEY, GASTON, GOOSE CREEK, RUSSELLVILLE, PENDLETON, BELTON, AIKEN, BEECH ISLAND, CALHOUN FALLS, GREER, MONCKS CORNER, LEXINGTON, ENOREE, CENTRAL, Hammond, EAST PROVIDENCE, BRADFORD, BARCELONETA, PONCE, PHILADELPHIA, CLAIRTON, BRACKENRIDGE, JEFFERSON, BRADDOCK, IMPERIAL, NATRONA HEIGHTS, PITTSBURGH, JENKINTOWN, HATFIELD, WARREN, CONSHOHOCKEN, PULASKI, MEHOOPANY, EASTON, ERIE, WHEATLAND, Phoenix, SPRING GROVE, CAMP HILL, HARLEYSVILLE, TOWANDA, POTTSVILLE, ROBINSON, RENOVO, YOUNGSVILLE, EDDYSTONE, CROYDON, CLIFFORD, FRENCH CREEK TWP, COOPERSTOWN, CARLTON, COCHRANTON, PITTSTON, EMMAUS, WARMINSTER, MEDIA, DENVER, SHARON, MASONTOWN, HOLBROOK, BERNVILLE, EAST GREENVILLE, MORRISVILLE, TULLYTOWN, HOMER CITY, BOYERS, SALEM, ADRIAN, WESTFIELD, CLEARFIELD, MONROETON, LYON STATION, TROY, NEW FLORENCE, NOTTINGHAM, LANCASTER, YORK HAVEN, DELAWARE WATER GAP, MCCLELLANDTOWN, ELLWOOD CITY, KANE, BUTLER, WILLIAMSPORT, BROCKPORT, POTTSTOWN, ALLENTOWN, SHELOCTA, NEW EAGLE, PHOENIXVILLE, HERSHEY, HUSTON, HANOVER, Port Arthur, North Pole, ASTON, CONWAY, FREEPORT, NEW CASTLE, JONESTOWN, APOLLO, MILL HALL, NORTH WALES, QUAKERTOWN, TAYLOR, SAYRE, HOOKSTOWN, INDUSTRY, PLYMOUTH MEETING, SCRANTON, CENTRAL CITY, TITUSVILLE, FORD CITY, BREINIGSVILLE, LATROBE, DUNMORE, PARRYVILLE, GENESEE, NEW OXFORD, BRACKENBRIDGE, MENDON, PORTERSVILLE, CLAYSVILLE, READING, MANOR, TOWNSHIP OF, ROYERSFORD, Manteca, HUMMELSTOWN, SMITHTON, CARLISLE, WASHINGTON, NEW HOLLAND, BOROUGH OF, EVANS, SAN ANTONIO, FLORENCE 3.2 MI. E OF, STOCKTON, OAKDALE, LAKE ZURICH, BAKERSFIELD, MELROSE PARK, DELANO, PROCTOR, LAWN, MANCHESTER, CAMBRIDGE, PITTSFIELD, WESTWOOD, SOUTH HADLEY, SCRANTON CITY, HUDSON, WATERBURY, NASHUA, GROTON, PERTH AMBOY, ROCHESTER, BAINBRIDGE, ROCKAWAY, GRAND ISLAND, 300 S BRANDYWINE AVE, CENTRE HALL, MIFFLINTOWN, NEW WILMINGTON, WEST MIFFLIN, NEVILLE, TOWNSHIP OF, WEST ELIZABETH, EUGENE, CLATSKANIE, MCMINNVILLE, ELGIN, PORTLAND, VALE, ALBANY, KLAMATH FALLS, SAN GERMAN, ARECIBO, NEWPORT, ONTARIO, ALVA, TULSA, VELMA, RED ROCK, FORT GIBSON, PRYOR, WYNNEWOOD, ARDMORE, MOORELAND, WOODWARD, WAYNOKA, CANUTE, CORN, GOODWELL, ADAMS, HOOKER, STRAIGHT, DUNCAN, EDISON, SCHENECTADY, PEDRICKTOWN, STRONG CITY, CRAWFORD, HAMMON, LAS PIEDRAS, MASSENA, ALLEN, CROWDER, ELLENVILLE, STILLWATER, SOUTH PLAINFIELD, PAULSBORO, GIBBSTOWN, EDMOND, AVENEL, OKLAHOMA CITY, HARRAH, MUSKOGEE, MANHATTAN, RINGWOOD, FAIRVIEW, GUTHRIE, CUSHING, JOHNSTON, KEARNY, PANAMA, Cheyenne, SPOTSWOOD, BUFFALO, DUKE, DELAWARE CITY, KEARNEYSVILLE, STUART, WETUMKA, AMBER, ALEX, CHICKASHA, TUTTLE, LINDSAY, ABERDEEN, CAIRO, BOYERTOWN, WILMINGTON, MAYSVILLE, ENID, CANTON, OAKWOOD, ODENTON, THOMAS, RANSON, HANCOCK, MCKEESPORT, JAMESTOWN, DEPEW, CRAIGSVILLE, WAVERLY, DUMFRIES, COALGATE, ATGLEN, PETERSBURG, COCKEYSVILLE, HEALDTON, Pleasant Hill, Manchester, CALUMET, GEARY, VERDEN, CYRIL, LOUISVILLE, GHENT, DECATUR, CLAY, GAINESVILLE, NEWBERN, ANDERSON, WATONGA, NORCROSS, DALTON, CHARLOTTE, MC INTOSH, MCDONOUGH, CITRONELLE, PALM COAST, INEZ, PITTSBORO, JACKSONVILLE, RALEIGH, KNIGHTDALE, MURRAY, MEMPHIS, OOLTEWAH, TUCKER, JENKS, EASTMAN, DETROIT, LITHIA SPRINGS, MOUNT AIRY, TUSCALOOSA, DEKALB, SUWANEE, CUMMING, TAMPA, KISSIMMEE, LONGWOOD, OAK BROOK, COLUMBUS, RIVERVIEW, MOUNT OLIVE, ESTILL, MCINTOSH, BARTOW, BLAINE, SAINT PAUL, EAST CLEVELAND, MOORESTOWN, HOFFMAN ESTATES, CROOKSTON, PAINESVILLE, NEW HOPE, MIDDLETOWN, TOLEDO, CALUMET CITY, WHEELING, CHICAGO, CRAWFORDSVILLE, ALBERT LEA, UHRICHSVILLE, NORTH CHICAGO, SCHAUMBURG, BRIDGEMAN, WOODVILLE, KALAMAZOO, MANSFIELD, MOUNT ZION, FOND DU LAC, NEW ULM, MIDLAND, MINNEAPOLIS, ALSIP, CARROLLTON, FAIRFIELD, WEST ALEXANDRIA, NORTHWOOD, BRYAN, LEBANON, NEW PHILADELPHIA, SUGARCREEK, MILWAUKEE, DES PLAINES, BRIDGETON, SEYMOUR, HARBOR BEACH, NAPERVILLE, HARTFORD, AKRON, JOLIET, INDIANAPOLIS, CHICAGO HEIGHTS, DELAWARE, GARY, BATAVIA, NORWALK, JACKSON CENTER, RANDOLPH, ROXANA, RAVENNA, TOWNSHIP OF, RAVENNA, CARO, CLYDE, TERRE HAUTE, Red Lion, MOGADORE, GLENFORD, CALDWELL, NORTHFIELD, DAYTON, MIAMISBURG, KETTERING, NORTHVILLE, ALLIANCE, CURTISS, MCARTHUR, MEDINA, MARION, WACO, KNOX CITY, YOUNGSTOWN, OREGON, FAYETTE COUNTY, PRESCOTT, WATERVILLE, OBERLIN, AMHERST, BERRYVILLE, ELYRIA, LORAIN, HEBRON, EASTLAKE, FINDLAY, CINCINNATI, BROOK PARK, COSHOCTON, WEST CHESTER, TOWNSHIP OF, TRENTON, ASHTABULA, LIMA, OOLAGAH, DUBACH, SYNDER, SHIDLER, PLAQUEMINES, ALVIN, SELBYVILLE, MCKINNEY, KREMLIN, BATON ROUGE, BEALSVILLE, STEUBENVILLE, MACEDONIA, NAPOLEON, GALLUP, LAFAYETTE, ALLEDONIA, VIBURNUM, QUEEN CITY, NEWTON, PORT WASHINGTON, EMPORIA, KANSAS CITY, STEPHENVILLE, RINGGOLD, EL DORADO, TILDEN, NEW ORLEANS, NIAGARA FALLS, TONAWANDA, LAKEWOOD, DUNKIRK, BUDA, MIAMI, ATLANTA, BETHLEHEM, CROSS CREEK TOWNSHIP, SAGINAW, NEW MADRID, COZAD, SALINA, WICHITA, PALMYRA, KEOKUK, PAINTED POST, FENTON, MOUNT PLEASANT, SAINT JOSEPH, OSWEGO, MARCELLUS, NEWARK, BEAR, CLAYMONT, DOVER (KENT,DE), CLAYTON, DAYVILLE, NORWICH, STUTTGART, ALABAMA, BIRMINGHAM, VANCE, COLUMBIANA, SATSUMA, CHUNCHULA, STEVENSON, CODEN, WEST PLAINS, LOWVILLE, FORT DRUM, WATERTOWN, TOPEKA, SAINT LOUIS, CITY OF, COUNCIL BLUFFS, CHARITON, ST JOSEPH, ANNISTON, PENNINGTON, KAISER, VALLEY CENTER, GUNTERSVILLE, OMAHA, BURLINGTON, JOHNSTOWN, CHATEAUGAY, OLATHE, MONETT, DESOTO, ELDORA, SIOUX CITY, HERINGTON, VERNAL, COLORADO SPRINGS, EAST GREENBUSH, RENSSELAER, ONEONTA, BENNETT, COLTON, FAIRBANKS, GLENMONT, FEURA BUSH, TARRYTOWN, PURCHASE, WHITE PLAINS, SAUGERTIES, WAUKEGAN, STONY POINT, SUFFERN, FLORIDA, BEARDSTOWN, STATEN ISLAND, JAMAICA, COULTERVILLE, EAU CLAIRE, WENTWORTH, MYTON, POCATELLO, FONTANA, GOWRIE, Healy, ATTALLA, WESTBOROUGH, GAITHERSBURG, BENTONVILLE, NORCO                                                       , Spokane, ENGLEWOOD, GARFIELD COUNTY, VACAVILLE, BROOKLYN, BEDMINSTER, MAKOTI, Muscatine, ROCKY RIVER, GARRETSON, MINNETONKA, COLORADO SPRINGS              , ROOSEVELT, LONGMONT, LEWISTOWN, CORRINE, CASPER, KOKOMO, COVINGTON, JEFFERSONVILLE, RACINE, CHELSEA, EDEN PRAIRIE, BELLEVUE, HAWAII, LITTLETON, WALLA WALLA, IGNACIO, AIEA, HEMPSTEAD, TOOMSBORO, WATFORD CITY, TOOELE, FORT BERTHOLD RESERVATION, MODEL CITY, SIDNEY, CANANDAIGUA, LAGRANGE, WILLISTON, GRIFFIN, GOUVERNEUR, Council Bluffs, COMMERCE, BUFORD, ALPHARETTA, KERSEY, LITHONIA, RIVERDALE, SAVANNAH, ANCRAM, FRYBURG, CARTERSVILLE, ANETH, MANDAREE, MONTEZUMA CREEK, EL SEGUNDO, MONTICELLO, DE LAND, OAKLAND, NORDEN, FORT MEADE, AUBURNDALE, FROSTPROOF, PLANT CITY, INTERCESSION CITY, PLYMOUTH, OCALA, OKAHUMPKA, YONKERS, CITY OF, RAMAPO, YONKERS, FORT LAUDERDALE, COCOA, STATEN ISLAND, BOROUGH OF, MEREDOSIA, FRESNO, HONOLULU, GOODYEAR, NEWBURY PARK, SANTA ANA, FULLERTON, SAN RAMON, LAKE FOREST, MCPHERSON, Bay St. Louis, PINE PLAINS, NEWBURGH, BILLERICA, Kansas City, RENNESALAER, OVERLAND PARK, SYRACUSE, UNKNOWN, ELMIRA, TEMPE, TORRANCE, SOLVAY, WATERLOO, CARMEL, WEST HAVERSTRAW, TOMKINS COVE, SAN JOSE, KERSEY, 1.4 MI E OF, BINGHAMTON, LAS VEGAS, JEAN, RENO, CHRISTIANSTED, ALBUQUERQUE, PEORIA, SUISUN CITY, HOBBS, MALJAMAR, ARTESIA, FARMINGTON, EUNICE, WALLINGFORD, WELD COUNTY, BLOOMFIELD, MONUMENT, NAVAJO DAM, NEW MEXICO, FORT WINGATE, PORTABLE SOURCE, SOUTH WINDSOR, TAUNTON, VEGA ALTA, MORRISTOWN, EDEN, OLIVE BRANCH, COUNCE, GARDEN CITY, BERNALILLO, WAGON MOUND, NEW ALBANY, CARLSBAD, TATUM, BALDWIN, BOGALUSA, AZTEC, RICHLAND, NEW ROADS, SPRINGDALE, GULF OF MEXICO, YAKIMA, MOOSUP, PORT WENTWORTH, WALTHAM, ALGODONES, CHEROKEE, BREWTON, BLANCO, KANKAKEE, Hattiesburg, Hopewell, TUCUMCARI, Louisiana, LOVINGTON, REBECCA, Port Reading, ANASCO, ATLANTIC CITY, VINELAND, HACKETTSTOWN, EAST BRUNSWICK, MILLVILLE, PENNSAUKEN, WHITEHOUSE STATION, FAIR LAWN, SWEDESBORO, LINDEN, JERSEY CITY, BASKING RIDGE, TAFT, RAHWAY, KENILWORTH, NEW JERSEY, BRANCHBURG, TOWNSHIP OF, SOMERVILLE, SOMERSET, DEEPWATER, AVON, PENNSVILLE, EAST HARTFORD, STAMFORD, PLAINFIELD, MERIDEN, PATERSON, NEPTUNE, TOWNSHIP OF, NEW BRUNSWICK, MIDDLESEX, SAYREVILLE, CARTERET, WINDSOR LOCKS, CRANBURY, TOWNSHIP OF, LAWRENCE TWP, KERSEY 8.3 MI. NE OF, GREELEY 7.5 MI. NE OF, KERSEY 9.8 MI. NE OF, KERSEY 14.7 MI. E OF, RAYMER 10.5 MI. N OF, KERSEY 8.6 MI. NE OF, KERSEY 8.5 MI. E OF, GROVER 8.4 MI. S OF, RAYMER 14.9 MI. N OF, KERSEY 8.8 MI. NE OF, RAYMER 15.3 MI. N OF, KERSEY 12.2 MI. NE OF, KERSEY 6.4 MI. E OF, KERSEY 6.3 MI. E OF, MILLIKEN AREA, KERSEY 16.1 MI. NE OF, GREELEY AREA, PLATTEVILLE AREA, FORT LUPTON AREA, GREELEY                       , GILCREST 7.2 MI. SE OF, HUDSON 5.8 MI. N OF, BERTHOUD AREA, NORTH BERGEN, KERSEY, 4.8 MI NE OF, KERSEY, 2.9 MI SE OF, KERSEY 4.8 MI. N OF, KERSEY 5.1 MI. E OF, FREDERICK                     , KERSEY, 3.8 MI E OF, HUDSON 5.4 MI. N OF, WINDSOR                       , PLATTEVILLE                   , MEAD, 1.6 MI N OF, WEST DEPTFORD, TOWNSHIP OF, FIRESTONE AREA, RAYMER 5.0 MI. N OF, KEENESBURG 5.2 MI. N OF, SEVERANCE AREA, NORTHGLENN AREA, DACONO AREA, THORNTON AREA, LUCERNE, FORT LUPTON                   , NUNN 14.8 MI. N OF, HUDSON AREA, RIO BLANCO 18 MILES W OF, MEEKER 23.1 MI. SW OF, MEEKER 21.1 MI. W OF, MEEKER 23.2 MI. W OF, MEEKER 16.7 MI. SW OF, GREENWICH, TOWNSHIP OF, BRUSH 2.6 MI. N OF, FORT MORGAN 3.4 MI. S OF, FORT MORGAN AREA, DINOSAUR 55.9 MI. NE OF, CRAIG 47.8 MI. NW OF, DEBEQUE 3.4 MI. S OF, COKEDALE 2.3 MI. W OF, Woods Cross, PARACHUTE 9.5 MI. NW OF, RIFLE AREA, Madison, DOVE CREEK 14.1 MI. S OF, DENVER                        , WINTER PARK, 7.7 MI SW OF     , CHEYENNE WELLS, CHEYENNE WELLS 4.3 MI. NW OF, WALSH 19.1 MI. S OF, DEER TRAIL 6.4 MI. W OF, BENNETT 8.6 MI. N OF, AURORA 2.1 MI. NE OF, DENVER AREA, GREELEY, PARKER, MONTROSE, MOFFAT COUNTY, LOVELAND, Ironton, DIVIDING CREEK, GEORGETOWN, UPPER DEERFIELD, TOWNSHIP OF, MAURICETOWN, GUNNISON COUNTY, CITY OF LITTLETON, STEAMBOAT SPRINGS, DIXON, OXNARD, VENTURA, SANTA PAULA, ARROYO GRANDE, TULARE, LIVINGSTON, Raeford, KINGSBURG, TRACY, KERN COUNTY, COALINGA, BLUE ANCHOR, METTLER, FRESNO COUNTY, HOLT, SHAFTER, MADERA, CARLSTADT, RIDGEFIELD, MAHWAH, RUTHERFORD, LYNDHURST, MCKEE CITY, CARTERET BORO, AVENAL, GLEN GARDNER BORO, LOWER ALLOWAYS CREEK TWP, JAFFREY, LINCOLN, NORFOLK, O'NEILL, ATKINSON, FAIRMONT, ELM CREEK, KEARNEY, KETTLEMAN CITY, WINSTON-SALEM, MOUNT GILEAD, NORTH WILKESBORO, MONROE, Dakota City, ASHEBORO, GRIFTON, ROCKY MOUNT, STATESVILLE, COFIELD, WHITAKERS, FAYETTEVILLE, RIEGELWOOD, MAIDEN, HAW RIVER, MOUNT HOLLY, MISSOULA, KALISPELL, BILLINGS, WHITEFISH, Seattle, BLUE MOUNTAI, SEMINARY, PASCAGOULA, YAZOO CITY, REDWOOD, BAY ST. LOUI, NATCHEZ, TINSLEY, VICKSBURG, ROBINSONVILL, MAGNOLIA, BATESVILLE, AMORY, HOLLY SPRING, TUPELO, MERIDIAN, SANDERSVILLE, ELLISVILLE, LAUREL, BAY SPRINGS, FULTON, GRENADA, WEST POINT, PACHUTA, CORINTH, COMO, SHANNON, CENTREVILLE, ROBINSONVILLE, MENDENHALL, BRANDON, SOUTHAVEN, BRUCE, SAINT LOUIS, DUDLEY, CRESTWOOD, BOLIVAR, NORTH KANSAS CITY, ST. LOUIS, BROOKLYN PARK, MANKATO, RED WING, EAST GRAND FORKS, WINONA, BAYPORT, SAINT PAUL PARK, WASECA, LAKE CITY, FORBES, KEEWATIN, BABBITT, MOUNTAIN IRON, FARIBAULT, FERGUS FALLS, MARSHALL, SILVER BAY, INTERNATIONAL FALLS, ATWATER, MODESTO, EDINA, BLOOMINGTON, MAPLE GROVE, CHATFIELD, CROWS LANDING, EAGAN, MOORHEAD, CLOQUET, LINCOLN TOWNSHIP, COON RAPIDS, BINGHAM LAKE, LODI, BEMIDJI, DULUTH, SAUK CENTRE, SERGEANT BLUFF, AUBURN HILLS, ROCHESTER HLS, SEBEWAING, CARLETON, KINGSFORD, ECORSE, WOODHAVEN, FLAT ROCK, DEARBORN, MCKITTRICK, YPSILANTI, CROSWELL, WHITE PIGEON, CONSTANTINE, SAINT CLAIR, GAYLORD, ONTONAGON, W BLOOMFIELD, WHITEHALL, SHASTA LAKE, SAN DIEGO, BIG RAPIDS, ROMEO, SOUTH GATE, STERLING HTS, REDLANDS, GRAND RAPIDS, Cedar Rapids, TEMECULA, RIVERSIDE, LOS ANGELES, Wilmington, LANSING, GRAND BLANC, FLINT, SAGOLA, LONG BEACH, SIGNAL HILL, BATTLE CREEK, MONROVIA, MONTEBELLO, IRWINDALE, SAWYER, SANTA FE SPRINGS, BIDDEFORD, SYLMAR, PARAMOUNT, PICO RIVERA, VERNON, CARSON, COMPTON, ROCKLAND, STRATTON, SOUTH PORTLAND, YARMOUTH, FORT FAIRFIELD, LIVERMORE FALLS, BELCAMP, BALTIMORE, REDONDO BEACH, SACRAMENTO, SALISBURY, UPPER MARLBORO, LUCERNE VALLEY, ORO GRANDE, BRAWLEY, CHESTERTOWN, CALIPATRIA, MARYLAND, SPARROWS POINT, DAVENPORT, CUMBERLAND, BENICIA, PINEY POINT, MIDDLE RIVER, AVILA BEACH, EUREKA, VALENCIA, VAN NUYS, GRAFTON, SWAMPSCOTT, AGAWAM, LOS ANGELES COUNTY, EVERETT, CITY OF, ANDOVER, LONOKE, BODEGA BAY, TEWKSBURY, MARANA, PINE BLUFF, GREEN VALLEY, MIDDLEBORO, CASA GRANDE, TUCSON, TONOPAH, MCCONNICO, SEARCY, BEE BRANCH, REDFIELD, RAYNHAM, TOWN OF, FALL RIVER, CITY OF, TAUNTON, TOWN OF, ATTLEBORO, CITY OF, SANDWICH, LITTLE ROCK, MARLBOROUGH, CITY OF, Klamath Falls, NORTH LITTLE ROCK, MALVERN, HELENA-WEST HELENA, MARMADUKE, WALDO, ACTON, CAMBRIDGE, TOWN OF, BOSTON, CITY OF, DIERKS, LYNN, CITY OF, TARRANT CITY, WOBURN, TOWN OF, PEABODY, CITY OF, WORCESTER, CITY OF, NORTHBOROUGH, TOWN OF, BARRE, FITCHBURG, CITY OF, LEOMINSTER, CITY OF, PITTSFIELD, TOWN OF, WESTFIELD, CITY OF, SPRINGFIELD, CITY OF, CHICOPEE, TOWN OF, SULPHUR                                                     , CHALMETTE                                                   , DELHI                                                       , WESTWEGO                                                    , FLORIEN                                                     , VENICE                                                      , GOLDONNA                                                    , ST. JAMES                                                   , RESERVE                                                     , KILLONA                                                     , ARABI                                                       , WESTLAKE                                                    , HAUGHTON                                                    , COTTON VALLEY                                               , PORTABLE SOURCE                                             , ST. FRANCISVILLE                                            , BRUSLY                                                      , BRUSLY, PORT ALLEN                                                  , SPRINGHILL                                                  , BOGALUSA                                                    , PITKIN                                                      , MONTGOMERY, FARMERVILLE                                                 , CREOLA, SWEET WATER, COURTLAND, SCOTTSBORO, HOUMA, HANCEVILLE, MORGAN CITY                                                 , SARALAND, OZARK, AMELIA, SPANISH FORT, CENTERVILLE, ARNAUDVILLE                                                 , HEALY, KENAI, PAULINA                                                     , MONTPELIER                                                  , NOT APPLICABLE, COOK INLET, JUNEAU, PINEVILLE                                                   , PACIFIC, NEW ROADS                                                   , SEATTLE, PALMER, PAYETTE, SUMNER, MOXEE, LEWISTON, PILOTTOWN                                                   , WAUWATOSA, PORT SULPHUR                                                , BELLE CHASSE                                                , HOOD RIVER, STERLINGTON                                                 , TOPPENISH, IDAHO FALLS, CLACKAMAS, NEW ORLEANS                                                 , NIKISKI, MILWAUKIE, MOSES LAKE, PASCO, COSMOPOLIS, BEND, KETCHIKAN, KIRKLAND, CANYON, CHINO,  WAIALUA, LIHUE, WAIALUA, TOLLESON, BUTTONWILLOW, CARY, NEWPORT BEACH, BREA, REDMOND, FELLOWS, ACAMPO, HOLLISTER, HAWTHORNE, DURHAM, GRAND BOIS                                                  , CHANDLER, NEWTOWN, SANTA BARBARA, SANTA ROSA, ATTLEBORO, ANAHEIM, CONNECTICUT, REVERE, CITY OF COMMERCE, PLEASANTON, LOCKPORT                                                    , BROUSSARD                                                   , JENNINGS                                                    , KAILUA KONA, HARVEY                                                      , WESTBROOK, SCOTTSDALE, CITY OF INDUSTRY, HAMILTON TOWNSHIP, SPARKS, TOA BAJA, POINT REYES, ROSEVILLE, MORRO BAY, CARPINTERIA, IRVINE, MANATI, HARAHAN                                                     , ST. GABRIEL                                                 , LYONS, JEROME, OVERTON, KAYENTA, ELK GROVE, WATFORD, KERSEY 6.0 MI. SE OF, JACKSON                                                     , BATON ROUGE                                                 , BISMARCK, LOGANSPORT                                                  , HURON, BLUEBELL, PLAZA, GILLETTE, BLOOMFIELD HILLS, NOXON, FAIRPORT, FULTONVILLE, RAPID CITY, HUMACAO, LISBON                                                      , OGDEN, DUBACH                                                      , WRIGHT, LOWRY                                                       , JOHNSONS BAYOU                                              , LAKE CHARLES                                                , BRONX, THORNTON, LAREDO, SULPHUR, GREENWOOD VILLAGE, BAKER, NORTH BRUNSWICK, VICTOR, THE ROCK, CONYERS, SALINAS, POINTE COUPEE PARISH, LURAY, LIBBY, VICTORVILLE, HILLSDALE, DILLON, MESA, RANGELY, LACYGNE, AMSTERDAM, WELLSVILLE, QUEENS, SOUTH SIOUX CITY, MARENGO, FREMONT, SHREVEPORT                                                  , ELM GROVE                                                   , CHILLICOTHE, GIBBON, PRINCETON                                                   , SHAWNEE, BAYSHORE, MUSCATINE, SAN JUAN, MENLO, PLEASANTVILLE, PLEASANT HILL, Horse Cave, RINGGOLD                                                    , RAGLEY                                                      , MARKSVILLE                                                  , AMELIA                                                      , NAPOLEONVILLE                                               , GEISMAR                                                     , TOBERT, METAIRIE, LAKE CHARLES, BELMONT, ARABI, PORT SULPHUR, EMPIRE, GALLIANO, PLAQUEMINE, HANNIBAL, LANDING, FLUSHING, HAUGHTON, LOYALTON, PORT ALLEN, BATAVIA, TOWN OF, SANTA CLARITA, KALONA, FORT MADISON, BRIGHTON, PAGEDALE, SCOTTSBLUFF, MANHATTAN BEACH, Ghent, JENNINGS, DES MOINES, CHALMETTE, ST. GABRIEL, ST. JAMES, SYLVESTER, LENEXA, WESTWEGO, COFFEYVILLE, HARRISONBURG, DECORAH, KIMBALL, DUBUQUE, YUTAN, SAEGERTOWN, CORONA, JESSUP, REBERSBURG, CHULA VISTA, MENDOTA, EMMETSBURG, ROBARDS, BURNSIDE, BREMEN, MOUNT STERLING, CALVERT CITY, HENDERSON, HAWESVILLE, WEIRTON, HARRISONVILLE, ERLANGER, ST. MARYS, WICKLIFFE, PROVIDENCE, NEW CENTURY, ELKTON, HUEYSVILLE, TIOGA, MIDDLESBORO, ODDS, PISO, KITE, DICE, DAVELLA, LETCHER COUNTY, BELLCRAFT, LEATHERWOOD, CONNERSBURG, PRINTER, ALGONA, JOPLIN, LOST HILLS, PILGRIM, Bristol, W BURLINGTON, NAPIER, HELTON, EOLIA, CARRIE, AMBURGEY, HILLSBORO, NOEL, SEDALIA, DAKOTA CITY, ORLA, HOPE, CLAREMORE, BELFRY, LOVELY, PERRY COUNTY, ARY, CARCASSONNE, BEVERLY, YERKES, STONEY FORK, CHAPPELL, LAUREL COUNTY, RAVEN, PHELPS, BOONE COUNTY, SASSAFRAS, MOREE, EMPORIUM, BRENHAM, ABBEVILLE, SHERMAN, MESQUITE, CRYSTAL CITY, VINTON, GRETHEL, HYDEN, NOETOWN, NEW MARTINSVILLE, GARLAND, EAST MCDOWELL, MOUNT CARBON, OSAGE COUNTY, ARJAY, KENTENIA, DENISON, PARTRIDGE, GEISMAR, WALTON, CALFAX COUNTY, SNYDER, PUEBLO, HAMILTON, EMELLE, GLENDALE, DICKINSON, SEADRIFT, FAULKNER COUNTY, OWENSBORO, OLATON, COMMERCE CITY AREA, BENTON, PAWHUSKA, "
     ]
    },
    {
     "name": "stdout",
     "output_type": "stream",
     "text": [
      "WILLIS, WYLIE, VENICE, SCURRY COUNTY, BOCA RATON, MISSOURI CITY, WALDEN 12.0 MI. SW OF, ARVADA AREA, FORT MORGAN                   , PUEBLO                        , MEEKER 21.1 MI. SW OF, BEAVER DAM, GUAGE, Corpus Christi, CHAVIES, GILCREST, KERSEY, 4.3 MI S OF, BEATTYVILLE, ERIE                          , ELIZABETHTOWN, PLAQUEINES, HUDSON 6.1 MI. N OF, KERSEY 11.1 MI. NE OF, MORGANFIELD, CARROLL, MILFORD, LAKOTA, AMES, FORT DODGE, CRESTON, COLDIRON, KOOTENAI, AMERICAN FALLS, Follansbee, NEODESHA, Moxee, HUGOTON #3 STA., SUBLETTE, LIGHT STATION, EAST WOODS BOOSTER STATION, SCOTT CITY, CUNNINGHAM, MACKSVILLE, TESCOTT, WARD/HUGS B BOOSTER STA., INDEPENDENCE, MEADE, HOLTON, HESSTON, DODGE CITY, WINFIELD, CLIFTON STATION, HAMMOND, CLOVERDALE, LAWRENCEBURG, BRAZIL, EAST CHICAGO, MIDDLEBURY, BLUFFTON, ROCKPORT, FRANKFORT, FAIRLAND, ELKHART, COLUMBIA CITY, SCOTTSBURG, NORTH MANCHESTER, SOUTH BEND, MISHAWAKA, LIGONIER, MOORESVILLE, EDINBURGH, WHEATFIELD, OWENSVILLE, CONNERSVILLE, Panama City, MUNCIE, FORT WAYNE, GURNEE, CHANNAHON, EAST PEORIA, GLENARM, DAVIS JUNCTION, GRANITE CITY, ALTON, DWIGHT, MARSEILLES, LINCOLNSHIRE, HANOVER PARK, WILLOWBROOK, HODGKINS, CICERO, CHIPOLA, SUMMIT, PARSIPPANY, Greenville, BURLEY, RINCON, MACON, SOUTHWEST, WAYCROSS, KENDRICK, STERLING AREA, LYNN, SPRING LAKE, ARCATA, RANCHO CUCAMONGA, AURORA AREA, FORAKER, FIFE, SHREVPORT, FILLMORE, ALEXANDER CITY, HUNTINGTON BEACH, KERSEY 12.3 MI. NE OF, BRAINTREE, DEVENS, SHEFFIELD, MAXVILLE, DELHI, STRONGSVILLE, SHREVEPORT, TYRONE, HURLEY, SAPULPA, ALAMOGORDO, MILBURN, DIMMITT, FT. WORTH, LIVEOAK, SPRING, ROOSEVELT COUNTY, NORCO, THIBODAUX, VIDOR, WICHITA FALLS, KILGORE, STONEBURG, GIRARD, COLORADO CITY, LIBERTY, ADA, JACKSBORO, PARADIS, MCALLEN, GRAND PRAIRIE, PONTOTOC, JEANNETTE, MADISONVILLE, ORLANDO, HALTOM CITY, WESTLAKE, ARVADA, LULING                                                      , PALESTINE, ITASCA, TIPP CITY, PEKIN, PORTAGE, ROSEMOUNT, BEDFORD PARK, BRIDGEVIEW, SHELBY TWP, MUNSTER, LOGANSPORT, Russellville, WELLINGTON, LOCKPORT, LITCHFIELD, EVENDALE, FOSTORIA, TRAVERSE CITY, DOWNERS GROVE, UXBRIDGE, NEWBURYPORT, SAN LORENZO, FRAMINGHAM, GOSHEN, JUSTICE, ARTHURDALE, REMUS, FRANKLIN PARK, GALESBURG, LEIPSIC, SHERIDAN TWP, MONROEVILLE, MAHNOMEN, TARBORO, BROOKHAVEN, EDWARDS, ST. PAUL, AXIS, ROCK ISLAND, BELLEVILLE, DUPO, HIGHLAND, SOLON, BELPRE, KALKASKA, MINERVA, LEMONT, COTTAGE GROVE, HAYNESVILLE, OKLAHOMA, BENNINGTON, VORHEES, LARAMIE, CHAPEL HILL, RIFLE, ERIE AREA, HOLLAND, PORT HURON, LYNWOOD, YUBA CITY, MOBILE, COMBINED LOCKS, MOLINE, DUBLIN, EDWARDSPORT, SOUTH BELOIT, EAST DUBUQUE, CLEWISTON, AVON PARK, FITZGERALD, LAKE STATION, MATTHEWS, CAROL STREAM, MC ARTHUR, LaPorte, UTICA, MANISTEE, GLOUSTER, ALTON , HAVERHILL, URBANA, BURR RIDGE, FRANKLIN  PARK, SHAKOPEE, WEST CHICAGO, NORTH BEND, CAHOKIA, BLUE ISLAND, ELK GROVE VILLAGE, HIGHLAND HEIGHTS, WAYNE, REDFORD TWP, WORTHINGTON, WEST CHESTER, OWATONNA, Oologah, Milford, EDDYVILLE, DOLTON, FAIRBURN, CONCORD, AUGUSTA, LAKELAND, ATHENS, BRADENTON, NEW PORT RICHEY, EVERGREEN, MARTIN, WESLEY CHAPEL, WINTER GARDEN, LUTZ, HORSE CAVE, UNION, BOWLING GREEN, VALDOSTA, MARIETTA, BRUNSWICK, WINSTON SALEM, PELL CITY, LUMBERTON, ALBERTVILLE, ASHEVILLE, DORAL, RIVES, SYLACAUGA, MURFREESBORO, BURLISON, WAYNESBORO, BOGUE CHITTO, RUTH, HOMEWOOD, JENSEN BEACH, BATTLEBORO, CLARK FORK, ASHCAMP, HOMERVILLE, POMPANO BEACH, ACKERMAN, INMAN, GOODLETTSVILLE, TIFTON, TIE PLANT, ROSE HILL, GRANITEVILLE, QUITMAN, HEIDELBERG, WINDSOR, PERRY PARK, CAYCE, MILAN, TARRANT, KERSEY 6.2 MI. E OF, GREELEY, 2.6 MI NE OF, RANGELY                       , HUNTSVILLE, CLEMSON, SARASOTA, SPINDALE, LELAND, NEW HOLLAND, DOVER, MCGLONE, NESQUEHONING, KNOB FORK, MAHAFFEY, HUGHESVILLE, STUARTS DRAFT, CHEYLAN, LANSDALE, ELKRIDGE, HURLOCK, NARROWS, HONEY BROOK, WEATHERLY, CAPITOL HEIGHTS, COLLIERS, BLANDON, SAINT MARYS, OAKTON, WILLOW GROVE, HARRISBURG, WORCESTER, COWEN, COXSACKIE, CAYEY, JUNCOS, UPPER PITTSGROVE, GUAYNABO, GUAYAMA, BAYAMON, CORVALLIS, CAROLINA, BROCTON, BERLIN BORO, WHITESTONE, OAKFIELD, FORT LEE, OLDMANS, TOWNSHIP OF, HARRISON, CAGUAS, WILLIAMSVILLE, ST CROIX, KINGSTON, Birmingham, ALLENDALE, VALHALLA, NEPTUNE, BURLINGTON TOWNSHIP, ARMONK, AMITYVILLE, LONG ISLAND CITY, BATH, DANBURY, NORTH READING, STRATFORD, CHELMSFORD, GREENWICH, PROSPECT, NEW BRITAIN, BOSTON, ROWE, GLASTONBURY, IPSWICH, MERRIMAC, ORLEANS, HADLEY, ROXBURY, NEW HAVEN, Bay City, GREENWATER, Conway, BRIDGEVILLE, Theodore, RIDDLE, KAMELA, GULF OF ALASKA, Conshohocken, GARDENA, OLD GREENWICH, Poplar, EAST LOS ANGELES, Atlanta, GRAND JUNCTION, ORANGE COVE, Graniteville, ANCHORAGE, KERSEY 7.0 MI. S OF, KERSEY 3.3 MI. N OF, CHARLES CITY, NEWCOMB, OAKLEY, ALASKA, CAMAS, COEUR D ALENE, WEST SACRAMENTO, NEZPERCE, CRAIGMONT, Burley, THOMASVILLE, SOMERSET, TOWN OF, MIDDLEBOROUGH, QUEENSBURY, SAVONA, CHITTENANGO, FAIRLESS HILLS, SUN VALLEY, HATTIESBURG, BESSEMER CITY, SPRUCE PINE, BESSEMER, PALM BAY, MONCURE, ROSSVILLE, HEMLOCK, RIVER ROUGE, SHOREWOOD, WINNSBORO, RATON, CLOVIS, WETHERSFIELD, GROVER 17.2 MI. SW OF, EATON 3.7 MI. E OF, TWO BUTTES, 22.0 MI NE OF, MEEKER 8.8 MI. N OF, POMONA, PALO ALTO, BEATTY, Groton, Barceloneta, Borger, COOSADA, PUYALLUP, GRAND VIEW, BOISE, TROUTDALE, CARLIN, MARTINEZ, ST LOUIS, ELDON, PARADIS                                                     , PO BOX 4358 HOUSTON, PLEASANT PRAIRIE, WARRENVILLE, BARBERTON, LAKE SUCCESS, BRAINERD, LASALLE, JESUP, FONDE, RIVIERA BEACH, DOTHAN, POST FALLS, HAPEVILLE, HAMPSTEAD, SAINT PETERSBURG, Modesto, MAPLETON, CIRCLEVILLE, WABASH, Blue Island, SONORA, Hudson, NEW MILFORD, DORAVILLE, MT. STERLING, GROVETOWN, SILVERTHORNE 11.4 MI. N OF, PEACHTREE CITY, LAVONIA, ROCHELLE, ELLIJAY, COLBERT, OGLETHORPE, VILLA RICA, WARRENTON, COLLBRAN 4.1 MI. SE OF, LUVERNE, UPPER SANDUSKY, BURNSVILLE, BALL GROUND, DE WITT, PENDERGRASS, CEDAR FALLS, SHAWNEE MISSION, CEDAR RAPIDS, PALMDALE, Newark, St. Charles, WEDRON, BRACEVILLE, Fort Madison, SUPERIOR, Neville Island, Baltimore, Dudley, GILCREST AREA, BRENTWOOD, Sinclair, Tulsa, PETALUMA, SAN CARLOS, SEAL BEACH, PRINCEVILLE, EL CENTRO, ANTIOCH, Springfield, GILCREST 3.2 MI. N OF, SAN FRANCISCO, SAN LEANDRO, WALNUT CREEK, MOJAVE, THOUSAND OAKS, Pawtucket, Crowley, Hawthorne, CALIENTE, PYRAMID LAKE, FLOWER MOUND, Wichita, MARLBOROUGH, N HAVEN, LUDLOW, MAPLE SHADE, GIBSONTON, WYALUSING, SAN CLEMENTE, HUMBOLDT, UINTAH & OURAY RESERVATION, WEST COLUMBIA, WAIMEA, HOOLEHUA, HAYDEN, CALHOUN, AVON LAKE, BLISSFIELD, ZANESVILLE, MORRIS, KIEL, STREATOR, POLK COUNTY, Franklin, STARKE, TRUMANN, Philadelphia, Wellington, Ingleside, FERNANDINA BEACH, Tacoma, HALLIE, RANCHO CORDOVA, Henderson, NEWHALL, Puyallup, Sedalia, Anniston, San Francisco, Lenexa, Robstown, Ontario, Plymouth, Toppenish, Kaiser, Chattanooga, Schaumburg, Fremont, El Paso, Scottsbluff, BOTHELL, SANTA ROSA BEACH, Newcastle, Penn Township, Monett, Portage, Sugarland, Goodyear, Fresno, Tarrant, "
     ]
    }
   ],
   "source": [
    "nan_vals = epa_df[epa_df['City'].isnull() ].index\n",
    "epa_df.drop(nan_vals, inplace=True)\n",
    "\n",
    "cities = epa_df['City'].unique()\n",
    "for city in cities:\n",
    "    print(city,end=', ')"
   ]
  },
  {
   "cell_type": "code",
   "execution_count": null,
   "metadata": {},
   "outputs": [],
   "source": []
  }
 ],
 "metadata": {
  "kernelspec": {
   "display_name": "Python 3",
   "language": "python",
   "name": "python3"
  },
  "language_info": {
   "codemirror_mode": {
    "name": "ipython",
    "version": 3
   },
   "file_extension": ".py",
   "mimetype": "text/x-python",
   "name": "python",
   "nbconvert_exporter": "python",
   "pygments_lexer": "ipython3",
   "version": "3.7.1"
  }
 },
 "nbformat": 4,
 "nbformat_minor": 2
}

{
 "cells": [
  {
   "cell_type": "code",
   "execution_count": 25,
   "metadata": {},
   "outputs": [
    {
     "name": "stdout",
     "output_type": "stream",
     "text": [
      "Scraping for: AAPL, 1528095600, 1559631600\n"
     ]
    }
   ],
   "source": [
    "#scraping for multiple pages in a loop\n",
    "\n",
    "#import libraries used for accessing pages randomly (mimicking human behavior)\n",
    "from time import sleep\n",
    "from time import time\n",
    "from random import randint\n",
    "from warnings import warn\n",
    "from IPython.core.display import clear_output\n",
    "\n",
    "import pandas as pd\n",
    "\n",
    "from requests import get\n",
    "from bs4 import BeautifulSoup\n",
    "\n",
    "headers = {\"Accept-Language\": \"en-US, en;q=0.5\"}\n",
    "\n",
    "#an array of 5-tuples: (Company Ticker, Violation Date, Start Date, End Date)\n",
    "#for now, our array is random and contains UNIX dates for convenience\n",
    "violations = [(\"AAPL\", 0, 1528095600, 1559631600, 0)]\n",
    "\n",
    "#a list of dataframes, each corresponding to a violation\n",
    "dataframes = {}\n",
    "\n",
    "# For every (ticker, sdate, edate) triple make new get request\n",
    "for v in violations:\n",
    "    \n",
    "    # Lists to store the scraped data in (for each violation)\n",
    "    dates = []\n",
    "    opens = []\n",
    "    highs = []\n",
    "    lows = []\n",
    "    closes = []\n",
    "    adjcloses = []\n",
    "    volumes = []\n",
    "\n",
    "    # Make a get request for daily stock values in the date range specified\n",
    "    response = get('https://finance.yahoo.com/quote/' + str(v[0]) + \n",
    "                   '/history?period1=' + str(v[2]) +\n",
    "                   '&period2=' + str(v[3]) + \n",
    "                   '&interval=1mo&filter=history&frequency=1mo',\n",
    "                   headers = headers)\n",
    "    \n",
    "    print('Scraping for: ' + str(v[0]) + ', ' + str(v[2]) + ', ' + str(v[3]))\n",
    "\n",
    "    # Pause the loop\n",
    "    sleep(randint(3,8))\n",
    "\n",
    "    # Parse the content of the request with BeautifulSoup\n",
    "    page_html = BeautifulSoup(response.text, 'html.parser')\n",
    "\n",
    "    # Select all the date rows on page (including dividends)\n",
    "    date_containers = page_html.find_all('tr', {'class' : [\"BdT Bdc($c-fuji-grey-c) Ta(end) Fz(s) Whs(nw)\"]})\n",
    "\n",
    "    # Extract data from individual book container\n",
    "    for container in date_containers:\n",
    "        cells = container.find_all('td', {'class' : [\"Py(10px) Pstart(10px)\"]})\n",
    "        if len(cells) > 0:\n",
    "            # The date\n",
    "            date = container.td.text\n",
    "            dates.append(date)\n",
    "            # if the row is not a dividend            \n",
    "            # The open price\n",
    "            opn = cells[0].text\n",
    "            opens.append(opn)\n",
    "            # The high price\n",
    "            high = cells[1].text\n",
    "            highs.append(high)\n",
    "            # The low price\n",
    "            low = cells[2].text\n",
    "            lows.append(low)\n",
    "            # The close price\n",
    "            close = cells[3].text\n",
    "            closes.append(close)\n",
    "            # The adjusted close price\n",
    "            adjclose = cells[4].text\n",
    "            adjcloses.append(adjclose)\n",
    "            # The volume\n",
    "            volume = cells[5].text\n",
    "            volumes.append(volume)\n",
    "            \n",
    "    # Make a dataframe for this iteration\n",
    "    # Each dataframe corresponds to a specific violation\n",
    "    violation_df = pd.DataFrame({'date': dates,\n",
    "                              'open': opens,\n",
    "                              'high': highs,\n",
    "                              'close': closes,\n",
    "                              'adjusted close': adjcloses,\n",
    "                              'volume' : volumes\n",
    "    })\n",
    "    \n",
    "    # Add dataframe to dictionary called dataframes\n",
    "    dataframes[v] = violation_df"
   ]
  },
  {
   "cell_type": "code",
   "execution_count": 22,
   "metadata": {},
   "outputs": [
    {
     "data": {
      "text/plain": [
       "{('AAPL',\n",
       "  '1528095600',\n",
       "  '1559631600'):             date    open    high   close adjusted close       volume\n",
       " 0   Jun 01, 2019  175.60  185.47  185.22         185.22  121,852,700\n",
       " 1   May 01, 2019  209.88  215.31  175.07         174.40  739,456,600\n",
       " 2   Apr 01, 2019  191.64  208.48  200.67         199.90  506,117,700\n",
       " 3   Mar 01, 2019  174.28  197.69  189.95         189.22  650,945,900\n",
       " 4   Feb 01, 2019  166.96  175.87  173.15         171.75  472,540,600\n",
       " 5   Jan 01, 2019  154.89  169.00  166.44         165.09  828,019,300\n",
       " 6   Dec 01, 2018  184.46  184.94  157.74         156.46  898,922,500\n",
       " 7   Nov 01, 2018  219.05  222.36  178.58         176.52  961,326,400\n",
       " 8   Oct 01, 2018  227.95  233.47  218.86         216.33  789,748,500\n",
       " 9   Sep 01, 2018  228.41  229.67  225.74         223.14  678,972,000\n",
       " 10  Aug 01, 2018  199.13  228.87  227.63         224.22  700,273,700\n",
       " 11  Jul 01, 2018  183.82  195.96  190.29         187.44  393,691,400\n",
       " 12  Jun 01, 2018       -       -       -              -            -}"
      ]
     },
     "execution_count": 22,
     "metadata": {},
     "output_type": "execute_result"
    }
   ],
   "source": [
    "dataframes"
   ]
  },
  {
   "cell_type": "code",
   "execution_count": 23,
   "metadata": {},
   "outputs": [
    {
     "data": {
      "text/plain": [
       "[('AAPL', '1528095600', '1559631600')]"
      ]
     },
     "execution_count": 23,
     "metadata": {},
     "output_type": "execute_result"
    }
   ],
   "source": [
    "for v in violations:\n",
    "    "
   ]
  },
  {
   "cell_type": "code",
   "execution_count": null,
   "metadata": {},
   "outputs": [],
   "source": []
  }
 ],
 "metadata": {
  "kernelspec": {
   "display_name": "Python 3",
   "language": "python",
   "name": "python3"
  },
  "language_info": {
   "codemirror_mode": {
    "name": "ipython",
    "version": 3
   },
   "file_extension": ".py",
   "mimetype": "text/x-python",
   "name": "python",
   "nbconvert_exporter": "python",
   "pygments_lexer": "ipython3",
   "version": "3.6.5"
  }
 },
 "nbformat": 4,
 "nbformat_minor": 2
}

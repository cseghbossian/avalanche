{
 "cells": [
  {
   "cell_type": "code",
   "execution_count": null,
   "metadata": {},
   "outputs": [],
   "source": [
    "import matplotlib.pyplot as plt\n",
    "%matplotlib inline"
   ]
  },
  {
   "cell_type": "code",
   "execution_count": null,
   "metadata": {},
   "outputs": [],
   "source": [
    "import time\n",
    "import datetime"
   ]
  },
  {
   "cell_type": "code",
   "execution_count": null,
   "metadata": {},
   "outputs": [],
   "source": [
    "import pandas as pd\n",
    "epa = pd.read_csv('../datasets/epa_violations.csv')"
   ]
  },
  {
   "cell_type": "code",
   "execution_count": null,
   "metadata": {},
   "outputs": [],
   "source": [
    "epa.head()"
   ]
  },
  {
   "cell_type": "code",
   "execution_count": null,
   "metadata": {},
   "outputs": [],
   "source": [
    "cols = [col for col in epa.columns]\n",
    "penalty_amt = 'Penalty Amount Adjusted For Eliminating Multiple Counting'\n",
    "\n",
    "# create a new row with penalty amount as int\n",
    "penalty_int = [int(entry.replace('$', '').replace(',','')) for entry in epa[penalty_amt]]\n",
    "epa['penalty_amt'] = penalty_int"
   ]
  },
  {
   "cell_type": "code",
   "execution_count": null,
   "metadata": {},
   "outputs": [],
   "source": [
    "cols_of_interest = ['penalty_amt', 'Company', 'Parent Company', 'Parent Company Stock Ticker', 'Penalty Year', 'Penalty Date']"
   ]
  },
  {
   "cell_type": "code",
   "execution_count": null,
   "metadata": {},
   "outputs": [],
   "source": [
    "# create a new dataframe only with the above columns\n",
    "epa_cols_interest = epa[cols_of_interest].copy()"
   ]
  },
  {
   "cell_type": "code",
   "execution_count": null,
   "metadata": {
    "scrolled": true
   },
   "outputs": [],
   "source": [
    "# drop NaN rows and reindex our table\n",
    "epa_cols_interest = epa_cols_interest.dropna()\n",
    "epa_cols_interest = epa_cols_interest.reset_index()"
   ]
  },
  {
   "cell_type": "code",
   "execution_count": null,
   "metadata": {},
   "outputs": [],
   "source": [
    "# sort by highest fine\n",
    "# epa_cols_interest.sort_values(by=['Parent Company Stock Ticker'], ascending=False)\n",
    "epa_cols_interest.sort_values(by=['penalty_amt'], ascending=False)"
   ]
  },
  {
   "cell_type": "code",
   "execution_count": null,
   "metadata": {},
   "outputs": [],
   "source": [
    "# Put violations into (ticker, date1, date2, amount)\n",
    "\n",
    "def to_unix(t):\n",
    "    t = str(t)\n",
    "    add_slash = lambda x: x[:4]+'/'+x[4:6]+'/'+x[6:]\n",
    "    t = add_slash(t)\n",
    "    new_t = time.mktime(datetime.datetime.strptime(t, \"%Y/%m/%d\").timetuple())\n",
    "    return new_t\n",
    "\n",
    "\n",
    "def time_range(d,delta):\n",
    "    yr_to_sec = lambda delta: delta*24*60*60\n",
    "    prior = d - yr_to_sec(delta)\n",
    "    post = d + yr_to_sec(delta)\n",
    "    return (prior, post)\n",
    "\n",
    "# are we using market cap here?\n",
    "def date_range(df):\n",
    "    for row in df.iterrows():\n",
    "        data = row[1]\n",
    "        date = data[6]\n",
    "        ticker = data[2]\n",
    "        penalty = data[1]\n",
    "        unix_date = to_unix(date)    \n",
    "        yield (penalty, ticker, time_range(unix_date, 2.5))"
   ]
  },
  {
   "cell_type": "code",
   "execution_count": null,
   "metadata": {},
   "outputs": [],
   "source": [
    "test = date_range(epa_cols_interest)"
   ]
  },
  {
   "cell_type": "code",
   "execution_count": null,
   "metadata": {},
   "outputs": [],
   "source": [
    "# TODO:\n",
    "#   split fines by amount\n",
    "# Fines here are split by billions, millions, thousands, and hundreds\n",
    "\n",
    "fines_bill = epa_cols_interest[epa_cols_interest['penalty_amt'] > 999999999]\n",
    "fines_mill = epa_cols_interest[epa_cols_interest['penalty_amt'].between(999999, 999999999)]\n",
    "fines_thou = epa_cols_interest[epa_cols_interest['penalty_amt'].between(999, 999999)]\n",
    "fines_hund = epa_cols_interest[epa_cols_interest['penalty_amt'].between(0, 998, inclusive=True)]"
   ]
  },
  {
   "cell_type": "code",
   "execution_count": null,
   "metadata": {},
   "outputs": [],
   "source": [
    "def plot_years_sum(df):\n",
    "    fine_by_year = []\n",
    "    unique_years = df['Penalty Year'].unique()\n",
    "    for year in unique_years:\n",
    "        epa_years = df[df['Penalty Year'] == year]\n",
    "        fine_by_year += [(sum(epa_years['penalty_amt']), year)]\n",
    "        \n",
    "    sorted_fines = sorted(fine_by_year, key = lambda x: x[1])\n",
    "    x_axis = [year for _,year in sorted_fines]\n",
    "    y_axis = [fine for fine,_ in sorted_fines]\n",
    "    \n",
    "    plt.plot(x_axis, y_axis)\n",
    "    plt.title(\"Fines by Year\")\n",
    "    plt.show()"
   ]
  },
  {
   "cell_type": "code",
   "execution_count": null,
   "metadata": {},
   "outputs": [],
   "source": [
    "plot_years_sum(fines_bill)\n",
    "plot_years_sum(fines_mill)\n",
    "plot_years_sum(fines_thou)\n",
    "plot_years_sum(fines_hund)\n",
    "plot_years_sum(epa_cols_interest)"
   ]
  },
  {
   "cell_type": "code",
   "execution_count": null,
   "metadata": {},
   "outputs": [],
   "source": [
    "# TOP FINES BY YEAR (using main dataframe epa_cols_interest)\n",
    "unique_years = sorted(epa_cols_interest['Penalty Year'].unique())\n",
    "for year in unique_years:\n",
    "    this_year = epa_cols_interest[epa_cols_interest['Penalty Year'] == year]\n",
    "    penalty = list(this_year['penalty_amt'])\n",
    "    ticker = list(this_year['Parent Company Stock Ticker'])\n",
    "    max_ = max(zip(penalty, ticker))\n",
    "    print(year, *max_)"
   ]
  },
  {
   "cell_type": "markdown",
   "metadata": {},
   "source": [
    "<h1> not really running this </h1>"
   ]
  },
  {
   "cell_type": "code",
   "execution_count": null,
   "metadata": {},
   "outputs": [],
   "source": [
    "sd = epa_cols_interest['penalty_amt'].std()\n",
    "avg = epa_cols_interest['penalty_amt'].mean()"
   ]
  },
  {
   "cell_type": "code",
   "execution_count": null,
   "metadata": {},
   "outputs": [],
   "source": [
    "#normalize values\n",
    "z_score = lambda x: ((x - avg) / float(sd))\n",
    "\n",
    "epa_cols_interest['normalized_amt'] = [z_score(val) for val in epa_cols_interest['penalty_amt']]"
   ]
  },
  {
   "cell_type": "code",
   "execution_count": null,
   "metadata": {},
   "outputs": [],
   "source": [
    "test_set = sorted(epa_cols_interest['normalized_amt'])[::-1]\n",
    "test_set\n",
    "\n",
    "plt.plot(test_set)\n",
    "plt.show()"
   ]
  }
 ],
 "metadata": {
  "kernelspec": {
   "display_name": "Python 3",
   "language": "python",
   "name": "python3"
  },
  "language_info": {
   "codemirror_mode": {
    "name": "ipython",
    "version": 3
   },
   "file_extension": ".py",
   "mimetype": "text/x-python",
   "name": "python",
   "nbconvert_exporter": "python",
   "pygments_lexer": "ipython3",
   "version": "3.7.3"
  }
 },
 "nbformat": 4,
 "nbformat_minor": 2
}

{
 "cells": [
  {
   "cell_type": "code",
   "execution_count": 1,
   "metadata": {},
   "outputs": [],
   "source": [
    "import pandas as pd\n"
   ]
  },
  {
   "cell_type": "code",
   "execution_count": 3,
   "metadata": {},
   "outputs": [
    {
     "name": "stderr",
     "output_type": "stream",
     "text": [
      "/Users/alexlue/anaconda3/lib/python3.7/site-packages/IPython/core/interactiveshell.py:3020: DtypeWarning: Columns (8,15) have mixed types. Specify dtype option on import or set low_memory=False.\n",
      "  interactivity=interactivity, compiler=compiler, result=result)\n"
     ]
    }
   ],
   "source": [
    "epa_violations_df = pd.read_csv('./epa_violations.csv')\n"
   ]
  },
  {
   "cell_type": "code",
   "execution_count": 6,
   "metadata": {},
   "outputs": [
    {
     "name": "stdout",
     "output_type": "stream",
     "text": [
      "<class 'pandas.core.frame.DataFrame'>\n",
      "RangeIndex: 40567 entries, 0 to 40566\n",
      "Data columns (total 37 columns):\n",
      "Company                                                      40567 non-null object\n",
      "Parent Company                                               15087 non-null object\n",
      "Penalty Amount                                               40567 non-null object\n",
      "Subtraction From Penalty                                     40567 non-null object\n",
      "Penalty Amount Adjusted For Eliminating Multiple Counting    40567 non-null object\n",
      "Penalty Year                                                 40567 non-null int64\n",
      "Penalty Date                                                 40567 non-null int64\n",
      "Primary Offense                                              40567 non-null object\n",
      "Secondary Offense                                            6 non-null object\n",
      "Description                                                  24630 non-null object\n",
      "Level of Government                                          40567 non-null object\n",
      "Action Type                                                  40567 non-null object\n",
      "Agency                                                       40567 non-null object\n",
      "Court                                                        0 non-null float64\n",
      "Civil/Criminal                                               40567 non-null object\n",
      "Prosecution Agreement                                        2 non-null object\n",
      "Case ID                                                      39252 non-null object\n",
      "Private Litigation Case Title                                0 non-null float64\n",
      "Lawsuit Resolution                                           0 non-null float64\n",
      "Facility State                                               31988 non-null object\n",
      "City                                                         31698 non-null object\n",
      "Address                                                      31108 non-null object\n",
      "Zip                                                          31081 non-null object\n",
      "NAICS Code                                                   20378 non-null float64\n",
      "NAICS Translation                                            19688 non-null object\n",
      "HQ Country of Parent                                         15087 non-null object\n",
      "HQ State of Parent                                           10901 non-null object\n",
      "Ownership Structure                                          15113 non-null object\n",
      "Parent Company Stock Ticker                                  9222 non-null object\n",
      "Major Industry of Parent                                     15087 non-null object\n",
      "Specific Industry of Parent                                  15087 non-null object\n",
      "Info Source                                                  40567 non-null object\n",
      "Info Source Archive URL                                      1131 non-null object\n",
      "PACER Link                                                   0 non-null float64\n",
      "Captured Document                                            0 non-null float64\n",
      "EPA/OSHA More Info Link                                      39252 non-null object\n",
      "Notes                                                        514 non-null object\n",
      "dtypes: float64(6), int64(2), object(29)\n",
      "memory usage: 11.5+ MB\n"
     ]
    }
   ],
   "source": [
    "epa_violations_df.info()\n",
    "\n"
   ]
  },
  {
   "cell_type": "code",
   "execution_count": 7,
   "metadata": {},
   "outputs": [
    {
     "data": {
      "text/plain": [
       "0         NaN\n",
       "1         NaN\n",
       "2         NaN\n",
       "3         NaN\n",
       "4         NaN\n",
       "5         NaN\n",
       "6         NaN\n",
       "7         NaN\n",
       "8         NaN\n",
       "9         NaN\n",
       "10        NaN\n",
       "11        JNJ\n",
       "12        NaN\n",
       "13        NaN\n",
       "14        AES\n",
       "15        NaN\n",
       "16        NaN\n",
       "17       RTKH\n",
       "18       RTKH\n",
       "19        NaN\n",
       "20        NaN\n",
       "21        NaN\n",
       "22        NaN\n",
       "23        NaN\n",
       "24        NaN\n",
       "25        APD\n",
       "26        APD\n",
       "27        AKS\n",
       "28        AKS\n",
       "29        AKS\n",
       "         ... \n",
       "40537     NaN\n",
       "40538     NaN\n",
       "40539     NaN\n",
       "40540     NaN\n",
       "40541     NaN\n",
       "40542     NaN\n",
       "40543     NaN\n",
       "40544     XOM\n",
       "40545     NaN\n",
       "40546     NaN\n",
       "40547     NaN\n",
       "40548     NaN\n",
       "40549     NaN\n",
       "40550     NaN\n",
       "40551     NaN\n",
       "40552     NaN\n",
       "40553     NaN\n",
       "40554     ETP\n",
       "40555     NaN\n",
       "40556    SRCL\n",
       "40557     NaN\n",
       "40558     NaN\n",
       "40559     NaN\n",
       "40560     NaN\n",
       "40561     NaN\n",
       "40562     CVA\n",
       "40563     NaN\n",
       "40564      AR\n",
       "40565     NaN\n",
       "40566     NaN\n",
       "Name: Parent Company Stock Ticker, Length: 40567, dtype: object"
      ]
     },
     "execution_count": 7,
     "metadata": {},
     "output_type": "execute_result"
    }
   ],
   "source": [
    "epa_violations_df['Parent Company Stock Ticker']"
   ]
  },
  {
   "cell_type": "code",
   "execution_count": 9,
   "metadata": {},
   "outputs": [
    {
     "data": {
      "text/plain": [
       "749"
      ]
     },
     "execution_count": 9,
     "metadata": {},
     "output_type": "execute_result"
    }
   ],
   "source": [
    "len(epa_violations_df['Parent Company Stock Ticker'].unique())"
   ]
  },
  {
   "cell_type": "code",
   "execution_count": null,
   "metadata": {},
   "outputs": [],
   "source": []
  }
 ],
 "metadata": {
  "kernelspec": {
   "display_name": "Python 3",
   "language": "python",
   "name": "python3"
  },
  "language_info": {
   "codemirror_mode": {
    "name": "ipython",
    "version": 3
   },
   "file_extension": ".py",
   "mimetype": "text/x-python",
   "name": "python",
   "nbconvert_exporter": "python",
   "pygments_lexer": "ipython3",
   "version": "3.7.1"
  }
 },
 "nbformat": 4,
 "nbformat_minor": 2
}
